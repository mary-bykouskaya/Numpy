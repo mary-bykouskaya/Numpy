{
 "cells": [
  {
   "cell_type": "markdown",
   "id": "14ccd2a0",
   "metadata": {},
   "source": [
    "<h1 style=\"margin-bottom: 25px;font-size:3.5rem;color:#4c76ce;text-align:center;\">\n",
    "    Introduction to NumPy</h1>\n",
    "    \n",
    "<h2 style=\"margin-bottom: 25px;font-size:2.5rem;text-align:center;\">\n",
    "    Part III: Introduction to Linear Algebra with Numpy</h2>\n",
    "    \n",
    "<img src=\"https://raw.githubusercontent.com/lajmcourses/Images/master/numpy.png\"\n",
    "     style=\"position:absolute;top:5px;left:25px;height:150px;width:auto;margin-bottom:25px;\">"
   ]
  },
  {
   "cell_type": "markdown",
   "id": "6640cb91",
   "metadata": {},
   "source": [
    "# 1. Vectors"
   ]
  },
  {
   "cell_type": "markdown",
   "id": "504d8d0e",
   "metadata": {},
   "source": [
    "## 1.1 Vector Norm\n",
    "\n",
    "Vector norm is a measure of vector distance."
   ]
  },
  {
   "cell_type": "code",
   "execution_count": 27,
   "id": "71ee4df4",
   "metadata": {},
   "outputs": [
    {
     "name": "stdout",
     "output_type": "stream",
     "text": [
      "\n",
      "Vector v1: [ 1  0 -1  3  2]\n",
      "\n",
      "Norm L2 of v1: 3.872983346207417\n",
      "\n",
      "Norm L1 of v1: 7.0\n",
      "\n",
      "Norm L-inf of v1: 3.0\n"
     ]
    }
   ],
   "source": [
    "import numpy as np\n",
    "from numpy.linalg import norm\n",
    "\n",
    "v1 = np.array([1, 0, -1, 3, 2])\n",
    "print(\"\\nVector v1:\", v1)\n",
    "\n",
    "# L2 Norm\n",
    "norm_l2 = norm(v1, 2)\n",
    "print(\"\\nNorm L2 of v1:\", norm_l2)\n",
    "\n",
    "# L1 Norm (or Manhattan Distance)\n",
    "norm_l1 = norm(v1, 1)\n",
    "print(\"\\nNorm L1 of v1:\", norm_l1)\n",
    "\n",
    "# L-inf Norm\n",
    "norm_linf = norm(v1, np.inf)\n",
    "print(\"\\nNorm L-inf of v1:\", norm_linf)"
   ]
  },
  {
   "cell_type": "markdown",
   "id": "d5983092",
   "metadata": {},
   "source": [
    "## 1.2 Scalar Multiplication of Vectors"
   ]
  },
  {
   "cell_type": "code",
   "execution_count": 3,
   "id": "a2951f63",
   "metadata": {},
   "outputs": [
    {
     "name": "stdout",
     "output_type": "stream",
     "text": [
      "\n",
      "Vector v1: [ 1  2 -3  2 -1]\n",
      "\n",
      "Vector v2: [ 1  0  0 -4  2]\n",
      "\n",
      "v1 x v2 =  -9\n",
      "\n",
      "v1 x v2 =  [ 1  0  0 -8 -2]\n"
     ]
    }
   ],
   "source": [
    "import numpy as np\n",
    "\n",
    "# Create vectors\n",
    "v1 = np.array([1, 2, -3, 2, -1])\n",
    "v2 = np.array([1, 0, 0, -4, 2])\n",
    "\n",
    "print(\"\\nVector v1:\", v1)\n",
    "print(\"\\nVector v2:\", v2)\n",
    "\n",
    "# Scalar multiplication of vectors\n",
    "res = np.dot(v1, v2)\n",
    "print(\"\\nv1 x v2 = \", res)\n",
    "\n",
    "print(\"\\nv1 x v2 = \",v1 * v2)"
   ]
  },
  {
   "cell_type": "markdown",
   "id": "298d8346",
   "metadata": {},
   "source": [
    "## Exercise 0:"
   ]
  },
  {
   "cell_type": "markdown",
   "id": "8fd13c70",
   "metadata": {},
   "source": [
    "a) Create vector v1 = [1, -4, 10, 11, -5, 0, -2]\n",
    "\n",
    "b) Create vector v2 = [3, 4, -12, 1, 1, 0, 15]\n",
    "\n",
    "c) Calculate L2 norm for both of the vectors\n",
    "\n",
    "d) Calculate the norm L1 for both of the vectors\n",
    "\n",
    "e) Calculate the norm L-infinity for both of the vectors\n",
    "\n",
    "f) Find the scalar product of v1 and v2"
   ]
  },
  {
   "cell_type": "code",
   "execution_count": 9,
   "id": "39cf885b",
   "metadata": {},
   "outputs": [
    {
     "name": "stdout",
     "output_type": "stream",
     "text": [
      "\n",
      "Norm L2 of v1: 16.34013463836819\n",
      "\n",
      "Norm L2 of v2: 19.8997487421324\n",
      "\n",
      "Norm L1 of v1: 33.0\n",
      "\n",
      "Norm L1 of v2: 36.0\n",
      "\n",
      "Norm L-inf of v1: 11.0\n",
      "\n",
      "Norm L-inf of v2: 15.0\n",
      "\n",
      "v1 x v2 =  -157\n"
     ]
    }
   ],
   "source": [
    "import numpy as np\n",
    "from numpy.linalg import norm\n",
    "\n",
    "# Create vectors\n",
    "v1 = np.array([1, -4, 10, 11, -5, 0, -2])\n",
    "v2 = np.array([3, 4, -12, 1, 1, 0, 15])\n",
    "\n",
    "# L2 Norm for v1\n",
    "norm_l2_v1 = norm(v1, 2)\n",
    "print(\"\\nNorm L2 of v1:\", norm_l2_v1)\n",
    "# L2 Norm for v2\n",
    "norm_l2_v2 = norm(v2, 2)\n",
    "print(\"\\nNorm L2 of v2:\", norm_l2_v2)\n",
    "\n",
    "# L1 Norm (or Manhattan Distance) for v1\n",
    "norm_l1_v1 = norm(v1, 1)\n",
    "print(\"\\nNorm L1 of v1:\", norm_l1_v1)\n",
    "\n",
    "# L1 Norm (or Manhattan Distance) for v2\n",
    "norm_l1_v2 = norm(v2, 1)\n",
    "print(\"\\nNorm L1 of v2:\", norm_l1_v2)\n",
    "\n",
    "# L-inf Norm for v1\n",
    "norm_linf_v1 = norm(v1, np.inf)\n",
    "print(\"\\nNorm L-inf of v1:\", norm_linf_v1)\n",
    "\n",
    "# L-inf Norm for v2\n",
    "norm_linf_v2 = norm(v2, np.inf)\n",
    "print(\"\\nNorm L-inf of v2:\", norm_linf_v2)\n",
    "\n",
    "# Scalar product of vectors\n",
    "res = np.dot(v1, v2)\n",
    "print(\"\\nv1 x v2 = \", res)\n"
   ]
  },
  {
   "cell_type": "markdown",
   "id": "d580698a",
   "metadata": {},
   "source": [
    "# 2. Matrices"
   ]
  },
  {
   "cell_type": "markdown",
   "id": "687e0c28",
   "metadata": {},
   "source": [
    "## 2.1 Matrix Norm"
   ]
  },
  {
   "cell_type": "code",
   "execution_count": 29,
   "id": "c4eeafd7",
   "metadata": {},
   "outputs": [
    {
     "name": "stdout",
     "output_type": "stream",
     "text": [
      "\n",
      "Matrix m1:\n",
      " [[ 1  2  3  4  5]\n",
      " [ 1  0  0 -1  3]\n",
      " [-2  4  5  0  0]] \n",
      "\n",
      "\n",
      "Norm L2 of m1: 8.526655284108742\n",
      "\n",
      "Norm L1 of m1: 8.0\n",
      "\n",
      "Norm L-inf of m1: 15.0\n"
     ]
    }
   ],
   "source": [
    "import numpy as np\n",
    "from numpy.linalg import norm\n",
    "\n",
    "m1 = np.array([\n",
    "    [1, 2, 3, 4, 5],\n",
    "    [1, 0, 0, -1, 3],\n",
    "    [-2, 4, 5, 0, 0]\n",
    "])\n",
    "\n",
    "print(\"\\nMatrix m1:\\n\", m1, \"\\n\")\n",
    "\n",
    "\n",
    "# L2 Norm\n",
    "norm_l2 = norm(m1, 2)\n",
    "print(\"\\nNorm L2 of m1:\", norm_l2)\n",
    "\n",
    "# L1 Norm \n",
    "norm_l1 = norm(m1, 1)\n",
    "print(\"\\nNorm L1 of m1:\", norm_l1)\n",
    "\n",
    "# L-inf Norm\n",
    "norm_linf = norm(m1, np.inf)\n",
    "print(\"\\nNorm L-inf of m1:\", norm_linf)"
   ]
  },
  {
   "cell_type": "markdown",
   "id": "4da23dd5",
   "metadata": {},
   "source": [
    "## 2.2 Multiplication of Matrices"
   ]
  },
  {
   "cell_type": "code",
   "execution_count": 30,
   "id": "ee7e84e7",
   "metadata": {},
   "outputs": [
    {
     "name": "stdout",
     "output_type": "stream",
     "text": [
      "\n",
      "Matrix m1:\n",
      " [[1 7]\n",
      " [2 3]\n",
      " [5 0]]\n",
      "\n",
      "Matrix m2:\n",
      " [[2 6 3 1]\n",
      " [1 2 3 4]]\n",
      "\n",
      "m3 = m1 x m2:\n",
      " [[ 9 20 24 29]\n",
      " [ 7 18 15 14]\n",
      " [10 30 15  5]]\n"
     ]
    }
   ],
   "source": [
    "import numpy as np \n",
    "\n",
    "# Create matrices\n",
    "m1 = np.array([\n",
    "    [1, 7], \n",
    "    [2, 3], \n",
    "    [5, 0]\n",
    "])\n",
    "\n",
    "m2 = np.array([\n",
    "    [2, 6, 3, 1], \n",
    "    [1, 2, 3, 4]\n",
    "])\n",
    "\n",
    "print(\"\\nMatrix m1:\\n\", m1)\n",
    "print(\"\\nMatrix m2:\\n\", m2)\n",
    "\n",
    "# Multiplying matrices\n",
    "m3 = np.dot(m1, m2)\n",
    "print(\"\\nm3 = m1 x m2:\\n\", m3)"
   ]
  },
  {
   "cell_type": "markdown",
   "id": "c278e6e3",
   "metadata": {},
   "source": [
    "## 2.3 Determinant of a Matrix"
   ]
  },
  {
   "cell_type": "code",
   "execution_count": 31,
   "id": "fe3030b1",
   "metadata": {},
   "outputs": [
    {
     "name": "stdout",
     "output_type": "stream",
     "text": [
      "\n",
      "Matrix m:\n",
      " [[0 2 1 3]\n",
      " [3 2 8 1]\n",
      " [1 0 0 3]\n",
      " [0 3 2 1]]\n",
      "\n",
      "Determinant of m: -38.0\n"
     ]
    }
   ],
   "source": [
    "import numpy as np\n",
    "from numpy.linalg import det\n",
    "\n",
    "# Create matrix\n",
    "m = np.array([\n",
    "    [0, 2, 1, 3],\n",
    "    [3, 2, 8, 1],\n",
    "    [1, 0, 0, 3],\n",
    "    [0, 3, 2, 1]\n",
    "])\n",
    "\n",
    "print(\"\\nMatrix m:\\n\", m)\n",
    "\n",
    "dm = det(m)\n",
    "\n",
    "print(\"\\nDeterminant of m:\", round(dm, 4))\n"
   ]
  },
  {
   "cell_type": "markdown",
   "id": "8cc63547",
   "metadata": {},
   "source": [
    "## Exercise 1:\n"
   ]
  },
  {
   "cell_type": "markdown",
   "id": "f8102d4e",
   "metadata": {},
   "source": [
    "a) Create matrix M = [[0, 2, 1, 3], [3, 2, 8, 1], [1, 0, 0, 3], [0, 3, 2, 1]].\n",
    "\n",
    "b) Find norms L2 and L1 of the matrix\n",
    "\n",
    "c) Find the determinant of M.\n",
    "\n",
    "d) Create 4 x 4 identity matrix I\n",
    "\n",
    "e) Multiplay M by I and show that the result is M\n"
   ]
  },
  {
   "cell_type": "code",
   "execution_count": null,
   "id": "30691835",
   "metadata": {},
   "outputs": [],
   "source": [
    "import numpy as np\n",
    "from numpy.linalg import det\n",
    "\n",
    "# Create matrix\n",
    "M = np.array([\n",
    "    [0, 2, 1, 3],\n",
    "    [3, 2, 8, 1],\n",
    "    [1, 0, 0, 3],\n",
    "    [0, 3, 2, 1]\n",
    "])\n",
    "\n",
    "print(\"\\nMatrix m:\\n\", M)\n",
    "\n",
    "# L2 Norm\n",
    "norm_l2 = norm(M, 2)\n",
    "print(\"\\nNorm L2 of M:\", norm_l2)\n",
    "\n",
    "# L1 Norm \n",
    "norm_l1 = norm(M, 1)\n",
    "print(\"\\nNorm L1 of M:\", norm_l1)\n",
    "\n",
    "# L-inf Norm\n",
    "norm_linf = norm(M, np.inf)\n",
    "print(\"\\nNorm L-inf of M:\", norm_linf)\n",
    "\n",
    "dm = det(M)\n",
    "print(\"\\nDeterminant of M:\", round(dm, 4))\n",
    "print()\n",
    "\n",
    "# Create 4 x 4 identity matrix I\n",
    "I = np.identity(4)\n",
    "print(\"Identity Matrix:\\n\", I, \"\\n\")\n",
    "\n",
    "# Multiplying matrices\n",
    "M1 = np.dot(M, I)\n",
    "print(\"\\nM1 = M x I:\\n\", M1)"
   ]
  },
  {
   "cell_type": "markdown",
   "id": "bda754aa",
   "metadata": {},
   "source": [
    "## 2.5 Rank of a Matrix\n",
    "\n",
    "A rank of an *m x n* matrix *M* is the number of linearly independent columns or rows of A,\n",
    "and it is denoted as *rank(A)*.\n",
    "\n",
    "A matrix has full rank if *rank(A) = min(m, n)*."
   ]
  },
  {
   "cell_type": "markdown",
   "id": "eb81ce33",
   "metadata": {},
   "source": [
    "## 2.4 Inverse Matrix\n",
    "\n",
    "The inverse of a square matrix M is a matrix of the same size, N, such that, M x N = I.\n",
    "The inverse of a matrix is analogous to an inverse number: 3 x 1/3 = 1.\n",
    "\n",
    "A matrix is said to be invertible if it has an inverse.\n",
    "\n",
    "The inverse of a matrix is unique, that is for an invertible matrix, there is only one inverse for that matrix.\n",
    "\n",
    "If M is a square matrix, its inverse is denoted as $M^{-1}$"
   ]
  },
  {
   "cell_type": "code",
   "execution_count": 2,
   "id": "d10fc22d",
   "metadata": {},
   "outputs": [
    {
     "name": "stdout",
     "output_type": "stream",
     "text": [
      "\n",
      "Matrix m:\n",
      " [[ 0  2  1  3]\n",
      " [ 3  2  8  1]\n",
      " [ 1  0 -3  3]\n",
      " [ 0  1  1  1]]\n",
      "\n",
      "Determinant of m:\n",
      " -5.0\n",
      "\n",
      "The rank of A:\n",
      " 4\n",
      "\n",
      "The inverse of m:\n",
      " [[-3.   0.   1.   6. ]\n",
      " [-5.  -0.4  1.2 11.8]\n",
      " [ 2.   0.2 -0.6 -4.4]\n",
      " [ 3.   0.2 -0.6 -6.4]]\n"
     ]
    }
   ],
   "source": [
    "import numpy as np\n",
    "from numpy.linalg import inv, matrix_rank\n",
    "\n",
    "# Create matrix\n",
    "m = np.array([\n",
    "    [0, 2, 1, 3],\n",
    "    [3, 2, 8, 1],\n",
    "    [1, 0, -3, 3],\n",
    "    [0, 1, 1, 1]\n",
    "])\n",
    "\n",
    "print(\"\\nMatrix m:\\n\", m)\n",
    "\n",
    "# Check if matrix determinant is not zero\n",
    "print(\"\\nDeterminant of m:\\n\", round(det(m), 4))\n",
    "\n",
    "# Or check if the rank of the matrix is 4\n",
    "mrank = matrix_rank(m)\n",
    "print(\"\\nThe rank of A:\\n\", mrank)\n",
    "\n",
    "# Matrix m inverse\n",
    "m_inv = inv(m)\n",
    "print(\"\\nThe inverse of m:\\n\", m_inv)"
   ]
  },
  {
   "cell_type": "markdown",
   "id": "76efdbb0",
   "metadata": {},
   "source": [
    "## Exercise 2:"
   ]
  },
  {
   "cell_type": "markdown",
   "id": "1b10521d",
   "metadata": {},
   "source": [
    "a) Create matrix mp = [[0, 1, 0], [0, 0, 0], [1, 0, 1]]\n",
    "\n",
    "b) Show that mp has a determinant equal to 0, and hence this matrix has no inverse."
   ]
  },
  {
   "cell_type": "code",
   "execution_count": 4,
   "id": "34c5368d",
   "metadata": {},
   "outputs": [
    {
     "name": "stdout",
     "output_type": "stream",
     "text": [
      "\n",
      "Matrix mp:\n",
      " [[0 1 0]\n",
      " [0 0 0]\n",
      " [1 0 1]]\n",
      "\n",
      "Determinant of mp:\n",
      " 0.0\n",
      "\n",
      "Matrix mp has a determinant equal to 0, hence this matrix has no inverse.\n",
      "\n"
     ]
    }
   ],
   "source": [
    "import numpy as np\n",
    "from numpy.linalg import inv, matrix_rank\n",
    "\n",
    "# Create matrix\n",
    "mp = np.array([\n",
    "    [0, 1, 0],\n",
    "    [0, 0, 0],\n",
    "    [1, 0, 1]\n",
    "])\n",
    "\n",
    "print(\"\\nMatrix mp:\\n\", mp)\n",
    "\n",
    "# Check if matrix determinant is zero\n",
    "print(\"\\nDeterminant of mp:\\n\", round(det(mp), 4))\n",
    "\n",
    "print(\"\\nMatrix mp has a determinant equal to 0, hence this matrix has no inverse.\\n\")\n"
   ]
  },
  {
   "cell_type": "markdown",
   "id": "273c97dd",
   "metadata": {},
   "source": [
    "## Exercise 3:"
   ]
  },
  {
   "cell_type": "markdown",
   "id": "da539f6d",
   "metadata": {},
   "source": [
    "a) Create matrix A = [[1, 0, 1], [-4, 3, 0], [1, 0, -2]]\n",
    "\n",
    "b) Compute the rank of the matrix A\n",
    "\n",
    "c) Find the determinant of A\n",
    "\n",
    "d) Find the inverse of A\n",
    "\n",
    "e) Multiply A by the inverse of A, and explain the result"
   ]
  },
  {
   "cell_type": "code",
   "execution_count": 6,
   "id": "e0a554aa",
   "metadata": {},
   "outputs": [
    {
     "name": "stdout",
     "output_type": "stream",
     "text": [
      "\n",
      "Matrix A:\n",
      " [[ 1  0  1]\n",
      " [-4  3  0]\n",
      " [ 1  0 -2]]\n",
      "\n",
      "The rank of A:\n",
      " 3\n",
      "\n",
      "Determinant of A:\n",
      " -9.0\n",
      "\n",
      "The inverse of A:\n",
      " [[ 0.66666667 -0.          0.33333333]\n",
      " [ 0.88888889  0.33333333  0.44444444]\n",
      " [ 0.33333333 -0.         -0.33333333]]\n",
      "\n",
      "A1 = A x A_inv:\n",
      " [[ 1.00000000e+00  0.00000000e+00  0.00000000e+00]\n",
      " [-1.11022302e-16  1.00000000e+00  0.00000000e+00]\n",
      " [ 1.11022302e-16  0.00000000e+00  1.00000000e+00]]\n"
     ]
    }
   ],
   "source": [
    "import numpy as np\n",
    "from numpy.linalg import inv, matrix_rank\n",
    "\n",
    "# Create matrix\n",
    "A = np.array([\n",
    "    [1, 0, 1],\n",
    "    [-4, 3, 0],\n",
    "    [1, 0, -2]\n",
    "])\n",
    "\n",
    "print(\"\\nMatrix A:\\n\", A)\n",
    "\n",
    "# rank of the matrix \n",
    "Arank = matrix_rank(A)\n",
    "print(\"\\nThe rank of A:\\n\", Arank)\n",
    "\n",
    "# determinant of matrix\n",
    "print(\"\\nDeterminant of A:\\n\", round(det(A), 4))\n",
    "\n",
    "# Matrix m inverse\n",
    "A_inv = inv(A)\n",
    "print(\"\\nThe inverse of A:\\n\", A_inv)\n",
    "\n",
    "# Multiplying matrices\n",
    "A1 = np.dot(A, A_inv)\n",
    "print(\"\\nA1 = A x A_inv:\\n\", A1)"
   ]
  },
  {
   "cell_type": "markdown",
   "id": "8fdef684",
   "metadata": {},
   "source": [
    "## 3. Solving Linear Equations Systems\n",
    "\n",
    "A linear equation is an equality of the form\n",
    "\n",
    "$$ \\sum_{i=1}^{n} a_i x_i = y $$\n",
    "\n",
    "\n",
    "A system of linear equations is a set of linear equations that share the same variables, for example:\n",
    "\n",
    "$$ a_{11} x_1 + a_{12} x_2 + a_{13} x_3 = y_1 $$\n",
    "$$ a_{21} x_1 + a_{22} x_2 + a_{23} x_3 = y_2 $$\n",
    "$$ a_{31} x_1 + a_{32} x_2 + a_{33} x_3 = y_3 $$\n",
    "\n",
    "The system of linear equations can be writtend in the matrix form:\n",
    "\n",
    "$$ A x = y $$\n",
    "\n",
    "where\n",
    "\n",
    "$ A = \n",
    "\\begin{bmatrix}\n",
    "    a_{11} & a_{12} & a_{13} \\\\\n",
    "    a_{21} & a_{22} & a_{23} \\\\\n",
    "    a_{31} & a_{32} & a_{33} \\\\\n",
    "\\end{bmatrix}\n",
    "$\n",
    "\n",
    "$ x = [x_1, x_2, x_3] $\n",
    "\n",
    "$ y = [y_1, y_2, y_3] $"
   ]
  },
  {
   "cell_type": "markdown",
   "id": "3b4042c9",
   "metadata": {},
   "source": [
    "## Exercise 4"
   ]
  },
  {
   "cell_type": "markdown",
   "id": "0d1164e1",
   "metadata": {},
   "source": [
    "Put the equations system below into matrix form:\n",
    "\n",
    "$$ \n",
    " 4x + 3y - 5z = 2   \\\\\n",
    "-2x - 4y + 5z = 5  \\\\\n",
    " 7x + 8y      = -3 \\\\\n",
    " x +  2z      = 1 \\\\\n",
    " 9x + y - 6z   = 6 \n",
    "$$\n"
   ]
  },
  {
   "cell_type": "code",
   "execution_count": 19,
   "id": "96fbee9e",
   "metadata": {},
   "outputs": [
    {
     "name": "stdout",
     "output_type": "stream",
     "text": [
      "\n",
      "Matrix A:\n",
      " [[0 2 1 3]\n",
      " [3 2 8 1]\n",
      " [1 0 0 3]\n",
      " [0 3 2 1]]\n",
      "\n",
      "Y: [ 2  5 -3  1  6]\n",
      "\n",
      "X: [x, y, z]\n"
     ]
    }
   ],
   "source": [
    "import numpy as np\n",
    "from numpy.linalg import inv, matrix_rank\n",
    "\n",
    "A = np.array([\n",
    "    [4, 3, -5],\n",
    "    [-2, -4, 5],\n",
    "    [7, 8, 0],\n",
    "    [1, 2, 0],\n",
    "    [9, 1, -6]\n",
    "])\n",
    "\n",
    "print(\"\\nMatrix A:\\n\", m)\n",
    "\n",
    "Y = np.array([2, 5, -3, 1, 6])\n",
    "print(\"\\nY:\", Y)\n",
    "\n",
    "print(\"\\nX: [x, y, z]\")\n",
    "\n",
    "Ay = np.array([\n",
    "    [4, 3, -5, 2],\n",
    "    [-2, -4, 5, 5],\n",
    "    [7, 8, 0, -3],\n",
    "    [1, 2, 0, 1],\n",
    "    [9, 1, -6, 6]\n",
    "])\n"
   ]
  },
  {
   "cell_type": "markdown",
   "id": "924cea34",
   "metadata": {},
   "source": [
    "## 3.1 Solutions to Systems of Linear Equations"
   ]
  },
  {
   "cell_type": "markdown",
   "id": "d12aa88e",
   "metadata": {},
   "source": [
    "Consider a system of linear equations in matrix form, *Ax = y*, where *A* is an *m × n* matrix. \n",
    "Recall that this means there are *m* equations and *n* unknowns in our system. \n",
    "A solution to this system of linear equations is a vector *x* of size *n*. There are three possibilities:\n",
    "\n",
    "1) The linear system has no solutions for *x*.\n",
    "\n",
    "2) There is one unique solution *x* that solves the system of linear equations.\n",
    "\n",
    "3) There are infinitely many solutions for *x* solving the linear equations system.\n",
    "\n",
    "\n",
    "**Case 1: There is no solutions for x**\n",
    "\n",
    "If *rank([A, y]) = rank(A) + 1* then y is linearly independent from the columns of A. \n",
    "Therefore, because *y* is not in the range of *A*, by definition there cannot\n",
    "be an *x* that satisfies the equation. Thus, comparing *rank([A, y])* and *rank(A)* provides an easy\n",
    "way to check if there are no solutions to a system of linear equations.\n",
    "\n",
    "\n",
    "**Case 2: There is unique solution for x**\n",
    "\n",
    "If *rank([A, y]) = rank(A)*, then y can be written as a linear combination of the columns of *A*, \n",
    "and there is at least one solution for the matrix equation. For there to be only one solution, \n",
    "*rank(A) = n* must also be true. In other words, the number of equations must be exactly equal to the number of unknowns.\n",
    "\n",
    "\n",
    "**Case 3: There are infinitely many solutions for x**\n",
    "\n",
    "If *rank([A, y]) = rank(A)*, then *y* is in the range of *A*, and there is at least one solution for the matrix equation; however, if *rank(A) < n*, then there are infinitely many solutions. \n"
   ]
  },
  {
   "cell_type": "markdown",
   "id": "ca023f25",
   "metadata": {},
   "source": [
    "## Exercise 5"
   ]
  },
  {
   "cell_type": "markdown",
   "id": "4ba42d8a",
   "metadata": {},
   "source": [
    "How many solutions does the system have:\n",
    "    \n",
    "a) \n",
    "$$ \n",
    " 4x + 3y - 5z = 2   \\\\\n",
    "-2x - 4y + 5z = 5  \\\\\n",
    " 7x + 8y      = -3 \\\\\n",
    "  x +  2z      = 1 \\\\\n",
    " 9x + y - 6z   = 6\n",
    "$$\n",
    "\n",
    "b) \n",
    "$$\n",
    " 2x_2 + x_3 + 3x_4 = 1 \\\\\n",
    " 3x_1 + 2x_2 + 8x_3 + x_4 = -7 \\\\\n",
    " x_1 + 3x_4 = 0 \\\\\n",
    " 4x_2 + 2x_3 + 6x_4 = 15\n",
    "$$\n",
    "\n",
    "c) \n",
    "\n",
    "$$\n",
    " 3x_1 - x_2 + 4x_3 = 2 \\\\\n",
    " 17x_1 + 2x_2 + x_3 = 14 \\\\\n",
    " x_1 + 12x_2 - 7x_3 = 54\n",
    "$$\n"
   ]
  },
  {
   "cell_type": "code",
   "execution_count": 9,
   "id": "c492e16e",
   "metadata": {},
   "outputs": [
    {
     "name": "stdout",
     "output_type": "stream",
     "text": [
      "\n",
      "Matrix A:\n",
      " [[ 4  3 -5]\n",
      " [-2 -4  5]\n",
      " [ 7  0  8]\n",
      " [ 1  0  2]\n",
      " [ 9  1 -6]]\n",
      "\n",
      "Rank of A: 3\n",
      "\n",
      "Vector y: [ 2  5 -3  1  6]\n",
      "\n",
      "Matrix [A,y]:\n",
      " [[ 4  3 -5  2]\n",
      " [-2 -4  5  5]\n",
      " [ 7  8  0 -3]\n",
      " [ 1  2  0  1]\n",
      " [ 9  1 -6  6]]\n",
      "\n",
      "The rank of Ay: 4\n",
      "\n",
      "Conclusion: the rank([A, y]) = rank(A) + 1, hence the system has no solutions for x\n",
      "\n"
     ]
    }
   ],
   "source": [
    "# a) Solution \n",
    "\n",
    "import numpy as np\n",
    "from numpy.linalg import solve, matrix_rank\n",
    "\n",
    "# Matrix A\n",
    "\n",
    "A = np.array([\n",
    "    [4, 3, -5],\n",
    "    [-2, -4, 5],\n",
    "    [7, 0, 8], \n",
    "    [1, 0, 2], \n",
    "    [9, 1, -6]\n",
    "])\n",
    "print(\"\\nMatrix A:\\n\", A)\n",
    "\n",
    "arank = matrix_rank(A)\n",
    "print(\"\\nRank of A:\", arank)\n",
    "\n",
    "y = np.array([2, 5, -3, 1, 6])\n",
    "print(\"\\nVector y:\", y)\n",
    "\n",
    "# Matrix [A, y]\n",
    "Ay = np.array([\n",
    "    [4, 3, -5, 2],\n",
    "    [-2, -4, 5, 5],\n",
    "    [7, 8, 0, -3], \n",
    "    [1, 2, 0, 1], \n",
    "    [9, 1, -6, 6]\n",
    "])\n",
    "\n",
    "print(\"\\nMatrix [A,y]:\\n\", Ay)\n",
    "\n",
    "ayrank = matrix_rank(Ay)\n",
    "print(\"\\nThe rank of Ay:\", ayrank)\n",
    "\n",
    "print(\"\\nConclusion: the rank([A, y]) = rank(A) + 1, hence the system has no solutions for x\\n\")\n",
    "\n"
   ]
  },
  {
   "cell_type": "code",
   "execution_count": 11,
   "id": "de6f2a01",
   "metadata": {},
   "outputs": [
    {
     "name": "stdout",
     "output_type": "stream",
     "text": [
      "\n",
      "Matrix A:\n",
      " [[0 2 1 3]\n",
      " [3 2 8 1]\n",
      " [1 0 0 3]\n",
      " [0 4 2 6]]\n",
      "\n",
      "Rank of A: 3\n",
      "\n",
      "Vector y: [ 1 -7  0 15]\n",
      "\n",
      "Matrix [A,y]:\n",
      " [[ 0  2  1  3  1]\n",
      " [ 3  2  8  1 -7]\n",
      " [ 1  0  0  3  0]\n",
      " [ 0  4  2  6 15]]\n",
      "\n",
      "The rank of Ay: 4\n",
      "\n",
      "Conclusion: the rank([A, y]) = rank(A) + 1, hence the system has no solutions for x\n",
      "\n"
     ]
    }
   ],
   "source": [
    "# b) Solution\n",
    "\n",
    "import numpy as np\n",
    "from numpy.linalg import solve, matrix_rank\n",
    "\n",
    "# Matrix A\n",
    "\n",
    "A = np.array([\n",
    "    [0, 2, 1, 3],\n",
    "    [3, 2, 8, 1],\n",
    "    [1, 0, 0, 3],\n",
    "    [0, 4, 2, 6]\n",
    "])\n",
    "print(\"\\nMatrix A:\\n\", A)\n",
    "\n",
    "arank = matrix_rank(A)\n",
    "print(\"\\nRank of A:\", arank)\n",
    "\n",
    "y = np.array([1, -7, 0, 15])\n",
    "print(\"\\nVector y:\", y)\n",
    "\n",
    "# Matrix [A, y]\n",
    "Ay = np.array([\n",
    "    [0, 2, 1, 3, 1],\n",
    "    [3, 2, 8, 1, -7],\n",
    "    [1, 0, 0, 3, 0],\n",
    "    [0, 4, 2, 6, 15]\n",
    "])\n",
    "\n",
    "print(\"\\nMatrix [A,y]:\\n\", Ay)\n",
    "\n",
    "ayrank = matrix_rank(Ay)\n",
    "print(\"\\nThe rank of Ay:\", ayrank)\n",
    "\n",
    "print(\"\\nConclusion: the rank([A, y]) = rank(A) + 1, hence the system has no solutions for x\\n\")"
   ]
  },
  {
   "cell_type": "code",
   "execution_count": 13,
   "id": "54b622f2",
   "metadata": {},
   "outputs": [
    {
     "name": "stdout",
     "output_type": "stream",
     "text": [
      "\n",
      "Matrix A:\n",
      " [[ 3 -1  4]\n",
      " [17  2  1]\n",
      " [ 1 12 -7]]\n",
      "\n",
      "Rank of A: 3\n",
      "\n",
      "Vector y: [ 2 14 54]\n",
      "\n",
      "Matrix [A,y]:\n",
      " [[ 3 -1  4  2]\n",
      " [17  2  1 14]\n",
      " [ 1 12 -7 54]]\n",
      "\n",
      "The rank of Ay: 3\n",
      "\n",
      "Conclusion: the rank(A) = rank(Ay) = n, hence the system has a unique solution\n",
      "\n",
      "\n",
      "Solution to the system: x: [0.05901639 5.57377049 1.84918033]\n",
      "\n",
      "Ax: [ 2. 14. 54.]\n"
     ]
    }
   ],
   "source": [
    "# c) Solution\n",
    "\n",
    "import numpy as np\n",
    "from numpy.linalg import solve, matrix_rank\n",
    "\n",
    "# Matrix A\n",
    "\n",
    "A = np.array([\n",
    "    [3, -1, 4],\n",
    "    [17, 2, 1],\n",
    "    [1, 12, -7]\n",
    "])\n",
    "print(\"\\nMatrix A:\\n\", A)\n",
    "\n",
    "arank = matrix_rank(A)\n",
    "print(\"\\nRank of A:\", arank)\n",
    "\n",
    "y = np.array([2, 14, 54])\n",
    "print(\"\\nVector y:\", y)\n",
    "\n",
    "# Matrix [A, y]\n",
    "Ay = np.array([\n",
    "    [3, -1, 4, 2],\n",
    "    [17, 2, 1, 14],\n",
    "    [1, 12, -7, 54]\n",
    "])\n",
    "\n",
    "print(\"\\nMatrix [A,y]:\\n\", Ay)\n",
    "\n",
    "ayrank = matrix_rank(Ay)\n",
    "print(\"\\nThe rank of Ay:\", ayrank)\n",
    "\n",
    "print(\"\\nConclusion: the rank(A) = rank(Ay) = n, hence the system has a unique solution\\n\")\n",
    "\n",
    "# Solving the linear equations system\n",
    "x = solve(A, y)\n",
    "\n",
    "print(\"\\nSolution to the system: x:\", x)\n",
    "\n",
    "# Testing the solution\n",
    "Ax = np.dot(A, x)\n",
    "print(\"\\nAx:\", Ax)"
   ]
  },
  {
   "cell_type": "markdown",
   "id": "589d2a32",
   "metadata": {},
   "source": [
    "## 3.2 Solving Linear Equations Systems with Numpy\n",
    "\n",
    "Let's solve the linear system from the exercise 5:\n",
    "\n",
    "$$ \n",
    " 4x + 3y - 5z = 2   \\\\\n",
    "-x - 2y + 3z = 3  \\\\\n",
    " 8x + 2y - 2z = 3 \\\\\n",
    "$$\n",
    "\n",
    "The number of unknowns *n=3*. The number of equations *m=5*.\n",
    "\n",
    "The first step is to write down the equation in the matrix form.\n",
    "\n",
    "The next step is to determine if the equation has a solution. It means that we need to find the ranks of the matrices *A* and *[A,y]*.\n",
    "\n",
    "Finally, if the solution exist we need to find it."
   ]
  },
  {
   "cell_type": "code",
   "execution_count": 33,
   "id": "28f8f7b2",
   "metadata": {},
   "outputs": [
    {
     "name": "stdout",
     "output_type": "stream",
     "text": [
      "\n",
      "Matrix A:\n",
      " [[ 4  3 -5]\n",
      " [-1 -2  3]\n",
      " [ 8  2 -2]]\n",
      "\n",
      "Rank of A: 3\n",
      "\n",
      "Vector y: [2 3 3]\n",
      "\n",
      "Matrix [A,y]:\n",
      " [[ 4  3 -5  2]\n",
      " [-1 -2  3  3]\n",
      " [ 8  2 -2  3]]\n",
      "\n",
      "The rank of Ay: 3\n",
      "\n",
      "Conclusion: the rank(A) = rank(Ay) = n, hence the system has a unique solution\n",
      "\n",
      "\n",
      "Solution to the system: x: [ 1.58333333 -9.91666667 -5.08333333]\n",
      "\n",
      "Ax: [2. 3. 3.]\n"
     ]
    }
   ],
   "source": [
    "# Solution\n",
    "\n",
    "import numpy as np\n",
    "from numpy.linalg import solve, matrix_rank\n",
    "\n",
    "# Matrix A\n",
    "\n",
    "A = np.array([\n",
    "    [4, 3, -5],\n",
    "    [-1, -2, 3],\n",
    "    [8, 2, -2], \n",
    "])\n",
    "print(\"\\nMatrix A:\\n\", A)\n",
    "\n",
    "arank = matrix_rank(A)\n",
    "print(\"\\nRank of A:\", arank)\n",
    "\n",
    "y = np.array([2, 3, 3])\n",
    "print(\"\\nVector y:\", y)\n",
    "\n",
    "# Matrix [A, y]\n",
    "Ay = np.array([\n",
    "    [4, 3, -5, 2],\n",
    "    [-1, -2, 3, 3],\n",
    "    [8, 2, -2, 3]\n",
    "])\n",
    "\n",
    "print(\"\\nMatrix [A,y]:\\n\", Ay)\n",
    "\n",
    "ayrank = matrix_rank(Ay)\n",
    "print(\"\\nThe rank of Ay:\", ayrank)\n",
    "\n",
    "print(\"\\nConclusion: the rank(A) = rank(Ay) = n, hence the system has a unique solution\\n\")\n",
    "\n",
    "# Solving the linear equations system\n",
    "x = solve(A, y)\n",
    "\n",
    "print(\"\\nSolution to the system: x:\", x)\n",
    "\n",
    "# Testing the solution\n",
    "Ax = np.dot(A, x)\n",
    "print(\"\\nAx:\", Ax)"
   ]
  },
  {
   "cell_type": "markdown",
   "id": "ebd3636f",
   "metadata": {},
   "source": [
    "## Exercise 6"
   ]
  },
  {
   "cell_type": "markdown",
   "id": "ec514995",
   "metadata": {},
   "source": [
    "a) Show that the system has a unique solution:\n",
    "    \n",
    "$$\n",
    "4x_1 + 3x_2 - 5x_3 = 2 \\\\\n",
    "-2x_1 - 4x_2 + 5x_3 = 5 \\\\\n",
    "8x_1 + 8x_2 = -3\n",
    "$$\n",
    "\n",
    "b) Solve the linear equations system"
   ]
  },
  {
   "cell_type": "code",
   "execution_count": 3,
   "id": "5bdd3419",
   "metadata": {},
   "outputs": [
    {
     "name": "stdout",
     "output_type": "stream",
     "text": [
      "\n",
      "Matrix A:\n",
      " [[ 4  3 -5]\n",
      " [-2 -4  5]\n",
      " [ 8  8  0]]\n",
      "\n",
      "Rank of A: 3\n",
      "\n",
      "Vector y: [ 2  5 -3]\n",
      "\n",
      "Matrix [A,y]:\n",
      " [[ 4  3 -5  2]\n",
      " [-2 -4  5  5]\n",
      " [ 8  8  0 -3]]\n",
      "\n",
      "The rank of Ay: 3\n",
      "\n",
      "Conclusion: the rank(A) = rank(Ay) = n, hence the system has a unique solution\n",
      "\n",
      "\n",
      "Solution to the system: x: [ 2.20833333 -2.58333333 -0.18333333]\n",
      "\n",
      "Ax: [ 2.  5. -3.]\n"
     ]
    }
   ],
   "source": [
    "# Solution\n",
    "\n",
    "import numpy as np\n",
    "from numpy.linalg import solve, matrix_rank\n",
    "\n",
    "# Matrix A\n",
    "\n",
    "A = np.array([\n",
    "    [4, 3, -5],\n",
    "    [-2, -4, 5],\n",
    "    [8, 8, 0], \n",
    "])\n",
    "print(\"\\nMatrix A:\\n\", A)\n",
    "\n",
    "arank = matrix_rank(A)\n",
    "print(\"\\nRank of A:\", arank)\n",
    "\n",
    "y = np.array([2, 5, -3])\n",
    "print(\"\\nVector y:\", y)\n",
    "\n",
    "# Matrix [A, y]\n",
    "Ay = np.array([\n",
    "    [4, 3, -5, 2],\n",
    "    [-2, -4, 5, 5],\n",
    "    [8, 8, 0, -3]\n",
    "])\n",
    "\n",
    "print(\"\\nMatrix [A,y]:\\n\", Ay)\n",
    "\n",
    "ayrank = matrix_rank(Ay)\n",
    "print(\"\\nThe rank of Ay:\", ayrank)\n",
    "\n",
    "print(\"\\nConclusion: the rank(A) = rank(Ay) = n, hence the system has a unique solution\\n\")\n",
    "\n",
    "# Solving the linear equations system\n",
    "x = solve(A, y)\n",
    "\n",
    "print(\"\\nSolution to the system: x:\", x)\n",
    "\n",
    "# Testing the solution\n",
    "Ax = np.dot(A, x)\n",
    "print(\"\\nAx:\", Ax)"
   ]
  },
  {
   "cell_type": "markdown",
   "id": "c4790b54",
   "metadata": {},
   "source": [
    "## Exercise 7"
   ]
  },
  {
   "cell_type": "markdown",
   "id": "c6269d45",
   "metadata": {},
   "source": [
    "a) Show that the system has a unique solution:\n",
    "\n",
    "$$\n",
    "    3x_1 - x_2 + 4x_3 = 2 \\\\\n",
    "    17x_1 + 2x_2 + x_3 = 14 \\\\\n",
    "    x_1 + 12x_2 + 7x_3 = 54 \\\\\n",
    "$$\n",
    "\n",
    "b) Solve the linear equations system"
   ]
  },
  {
   "cell_type": "code",
   "execution_count": 4,
   "id": "4396d588",
   "metadata": {},
   "outputs": [
    {
     "name": "stdout",
     "output_type": "stream",
     "text": [
      "\n",
      "Matrix A:\n",
      " [[ 3 -1  4]\n",
      " [17  2  1]\n",
      " [ 1 12  7]]\n",
      "\n",
      "Rank of A: 3\n",
      "\n",
      "Vector y: [ 2 14 54]\n",
      "\n",
      "Matrix [A,y]:\n",
      " [[ 3 -1  4  2]\n",
      " [17  2  1 14]\n",
      " [ 1 12  7 54]]\n",
      "\n",
      "The rank of Ay: 3\n",
      "\n",
      "Conclusion: the rank(A) = rank(Ay) = n, hence the system has a unique solution\n",
      "\n",
      "\n",
      "Solution to the system: x: [0.30901288 3.76824034 1.21030043]\n",
      "\n",
      "Ax: [ 2. 14. 54.]\n"
     ]
    }
   ],
   "source": [
    "# Solution\n",
    "\n",
    "import numpy as np\n",
    "from numpy.linalg import solve, matrix_rank\n",
    "\n",
    "# Matrix A\n",
    "\n",
    "A = np.array([\n",
    "    [3, -1, 4],\n",
    "    [17, 2, 1],\n",
    "    [1, 12, 7], \n",
    "])\n",
    "print(\"\\nMatrix A:\\n\", A)\n",
    "\n",
    "arank = matrix_rank(A)\n",
    "print(\"\\nRank of A:\", arank)\n",
    "\n",
    "y = np.array([2, 14, 54])\n",
    "print(\"\\nVector y:\", y)\n",
    "\n",
    "# Matrix [A, y]\n",
    "Ay = np.array([\n",
    "    [3, -1, 4, 2],\n",
    "    [17, 2, 1, 14],\n",
    "    [1, 12, 7, 54], \n",
    "])\n",
    "\n",
    "print(\"\\nMatrix [A,y]:\\n\", Ay)\n",
    "\n",
    "ayrank = matrix_rank(Ay)\n",
    "print(\"\\nThe rank of Ay:\", ayrank)\n",
    "\n",
    "print(\"\\nConclusion: the rank(A) = rank(Ay) = n, hence the system has a unique solution\\n\")\n",
    "\n",
    "# Solving the linear equations system\n",
    "x = solve(A, y)\n",
    "\n",
    "print(\"\\nSolution to the system: x:\", x)\n",
    "\n",
    "# Testing the solution\n",
    "Ax = np.dot(A, x)\n",
    "print(\"\\nAx:\", Ax)"
   ]
  },
  {
   "cell_type": "code",
   "execution_count": null,
   "id": "f5d13630",
   "metadata": {},
   "outputs": [],
   "source": []
  }
 ],
 "metadata": {
  "kernelspec": {
   "display_name": "Python 3 (ipykernel)",
   "language": "python",
   "name": "python3"
  },
  "language_info": {
   "codemirror_mode": {
    "name": "ipython",
    "version": 3
   },
   "file_extension": ".py",
   "mimetype": "text/x-python",
   "name": "python",
   "nbconvert_exporter": "python",
   "pygments_lexer": "ipython3",
   "version": "3.10.4"
  }
 },
 "nbformat": 4,
 "nbformat_minor": 5
}
